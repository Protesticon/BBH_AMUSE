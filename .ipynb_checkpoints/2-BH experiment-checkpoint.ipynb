{
 "cells": [
  {
   "cell_type": "code",
   "execution_count": null,
   "metadata": {},
   "outputs": [],
   "source": [
    "%matplotlib inline\n",
    "import numpy\n",
    "import numpy as np\n",
    "from matplotlib import pyplot\n",
    "from amuse.units import (units, constants)\n",
    "from amuse.ext.orbital_elements import new_binary_from_orbital_elements\n",
    "from amuse.ext.orbital_elements import orbital_elements_from_binary\n",
    "from amuse.lab import Particles\n",
    "from amuse.lab import new_powerlaw_mass_distribution\n",
    "from amuse.lab import nbody_system\n",
    "from amuse.community.ph4.interface import ph4\n",
    "from amuse.ext.LagrangianRadii import LagrangianRadii\n",
    "def orbital_period(Mtot, a):\n",
    "    return (((4 * numpy.pi**2) * a**3)/(constants.G * Mtot)).sqrt()\n",
    "\n",
    "SMBH = Particles(1)\n",
    "SMBH.name = \"SMBH\"\n",
    "SMBH.mass = 4.154e+6 | units.MSun\n",
    "SMBH.position = (0, 0, 0) | units.pc\n",
    "SMBH.velocity = (0, 0, 0) | units.kms"
   ]
  },
  {
   "cell_type": "code",
   "execution_count": null,
   "metadata": {},
   "outputs": [],
   "source": [
    "def relative_orbital_velocity(distance, mass=SMBH.mass):\n",
    "    return (constants.G*mass/distance).sqrt()\n",
    "\n",
    "def dist(body):\n",
    "    return (body.x**2+body.y**2+body.z**2).sqrt()\n",
    "\n",
    "def plot(body):\n",
    "    scatter(body.x.value_in(units.pc), body.z.value_in(units.pc), s=20, alpha=0.5)\n",
    "    #scatter(SMBH.x.value_in(units.pc), SMBH.z.value_in(units.pc), s=80, c='r')\n",
    "    pyplot.xlim(-10, 10)\n",
    "    pyplot.ylim(-10, 10)\n",
    "    \n",
    "def random_p(r_in=0, r_out=3):\n",
    "    r=r_in + np.random.rand()*(r_out-r_in)\n",
    "    a=np.random.rand()*2*np.pi\n",
    "    x=r*np.cos(a) | units.pc\n",
    "    y=r*np.sin(a) | units.pc\n",
    "    z = 0 | units.pc\n",
    "    return x,y,z\n",
    "    \n",
    "def random_v(distance):\n",
    "    v=(np.random.rand()*(2*constants.G*SMBH.mass/distance)).sqrt()\n",
    "    a=np.random.rand()*2*np.pi\n",
    "    vx=v*np.cos(a)\n",
    "    vy=v*np.sin(a)\n",
    "    vz=0 | units.kms\n",
    "    return vx,vy,vz"
   ]
  },
  {
   "cell_type": "code",
   "execution_count": null,
   "metadata": {},
   "outputs": [],
   "source": [
    "for i in range(0, 1):\n",
    "    bodies = Particles(2)\n",
    "    bodies.name = [\"BH1\", \"BH2\"]\n",
    "    bodies.mass = new_powerlaw_mass_distribution(2, 1.0|units.MSun, 100.0|units.MSun, 2.35)\n",
    "    bodies[0].position = (random_p())\n",
    "    bodies[1].position = (random_p())\n",
    "    distance1, distance2 = dist(bodies[0]), dist(bodies[1])\n",
    "    bodies[0].velocity = (random_v(distance1))\n",
    "    bodies[1].velocity = (random_v(distance2))\n",
    "    bodies.add_particles(SMBH)\n",
    "    \n",
    "    bodies1 = bodies.copy()\n",
    "    converter = nbody_system.nbody_to_si(bodies1.mass.sum(), bodies1.position.length())\n",
    "    bodies1.scale_to_standard(converter)\n",
    "    gravity = ph4(converter, number_of_workers=32)\n",
    "    gravity.particles.add_particles(bodies1)\n",
    "    channel = gravity.particles.new_channel_to(bodies1)\n",
    "\n",
    "\n",
    "    times = numpy.arange(0, 100, 1) | units.Myr\n",
    "    for time in times:\n",
    "        gravity.evolve_model(time)\n",
    "        channel.copy() # Copy from gravity.particles to bodies\n",
    "        print(\"Time=\", time.in_(units.Myr))\n",
    "\n",
    "        b = (bodies-SMBH).get_binaries()\n",
    "        if(len(b)>0):\n",
    "            print(\"Number of binaries found:\", len(b))\n",
    "            print(\"first binary:\", b[0].mass)"
   ]
  },
  {
   "cell_type": "code",
   "execution_count": null,
   "metadata": {},
   "outputs": [],
   "source": [
    "print(bodies1)"
   ]
  },
  {
   "cell_type": "code",
   "execution_count": null,
   "metadata": {},
   "outputs": [],
   "source": []
  }
 ],
 "metadata": {
  "kernelspec": {
   "display_name": "Python 3",
   "language": "python",
   "name": "python3"
  },
  "language_info": {
   "codemirror_mode": {
    "name": "ipython",
    "version": 3
   },
   "file_extension": ".py",
   "mimetype": "text/x-python",
   "name": "python",
   "nbconvert_exporter": "python",
   "pygments_lexer": "ipython3",
   "version": "3.10.8"
  }
 },
 "nbformat": 4,
 "nbformat_minor": 4
}
