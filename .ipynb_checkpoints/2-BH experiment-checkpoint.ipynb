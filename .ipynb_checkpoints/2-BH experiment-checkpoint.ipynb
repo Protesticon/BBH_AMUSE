{
 "cells": [
  {
   "cell_type": "code",
   "execution_count": 1,
   "metadata": {},
   "outputs": [],
   "source": [
    "%matplotlib inline\n",
    "import numpy\n",
    "import numpy as np\n",
    "from matplotlib import pyplot\n",
    "from amuse.plot import scatter\n",
    "from amuse.units import (units, constants)\n",
    "from amuse.ext.orbital_elements import new_binary_from_orbital_elements\n",
    "from amuse.ext.orbital_elements import orbital_elements_from_binary\n",
    "from amuse.lab import Particles\n",
    "from amuse.lab import new_powerlaw_mass_distribution\n",
    "from amuse.lab import nbody_system\n",
    "from amuse.community.ph4.interface import ph4\n",
    "from amuse.ext.LagrangianRadii import LagrangianRadii\n",
    "def orbital_period(Mtot, a):\n",
    "    return (((4 * numpy.pi**2) * a**3)/(constants.G * Mtot)).sqrt()\n",
    "\n",
    "SMBH = Particles(1)\n",
    "SMBH.name = \"SMBH\"\n",
    "SMBH.mass = 4.154e+6 | units.MSun\n",
    "SMBH.position = (0, 0, 0) | units.pc\n",
    "SMBH.velocity = (0, 0, 0) | units.kms"
   ]
  },
  {
   "cell_type": "code",
   "execution_count": 2,
   "metadata": {},
   "outputs": [],
   "source": [
    "def relative_orbital_velocity(distance, mass=SMBH.mass):\n",
    "    return (constants.G*mass/distance).sqrt()\n",
    "\n",
    "def dist(body):\n",
    "    return (body.x**2+body.y**2+body.z**2).sqrt()\n",
    "\n",
    "def plot(body):\n",
    "    r = 3\n",
    "    scatter(body.x.value_in(units.pc), body.y.value_in(units.pc), s=5, alpha=0.5)\n",
    "    #scatter(SMBH.x.value_in(units.pc), SMBH.z.value_in(units.pc), s=80, c='r')\n",
    "    pyplot.xlim(-r, r)\n",
    "    pyplot.ylim(-r, r)\n",
    "    \n",
    "def random_p(r_in=0, r_out=3):\n",
    "    r=r_in + np.random.rand()*(r_out-r_in)\n",
    "    a=np.random.rand()*2*np.pi\n",
    "    x=r*np.cos(a) | units.pc\n",
    "    y=r*np.sin(a) | units.pc\n",
    "    z = 0 | units.pc\n",
    "    return x,y,z\n",
    "    \n",
    "def random_v(distance):\n",
    "    r = 3\n",
    "    v=(np.random.rand()*(2*(constants.G*SMBH.mass/distance-constants.G*SMBH.mass/(r | units.pc)))).sqrt()\n",
    "    a=np.random.rand()*2*np.pi\n",
    "    vx=v*np.cos(a)\n",
    "    vy=v*np.sin(a)\n",
    "    vz=0 | units.kms\n",
    "    return vx,vy,vz"
   ]
  },
  {
   "cell_type": "code",
   "execution_count": 3,
   "metadata": {},
   "outputs": [
    {
     "name": "stderr",
     "output_type": "stream",
     "text": [
      "/software/amuse/amuse-2021.6/lib/python3.9/site-packages/amuse/units/quantities.py:1161: VisibleDeprecationWarning: Creating an ndarray from ragged nested sequences (which is a list-or-tuple of lists-or-tuples-or ndarrays with different lengths or shapes) is deprecated. If you meant to do this, you must specify 'dtype=object' when creating the ndarray.\n",
      "  return numpy.array(self._number_list, dtype=self.unit.dtype)\n"
     ]
    },
    {
     "name": "stdout",
     "output_type": "stream",
     "text": [
      "Time= 0 Myr\n",
      "Time= 10 Myr\n",
      "Time= 20 Myr\n",
      "Time= 30 Myr\n",
      "Time= 40 Myr\n",
      "Time= 50 Myr\n",
      "Time= 60 Myr\n",
      "Time= 70 Myr\n",
      "Time= 80 Myr\n",
      "Time= 90 Myr\n"
     ]
    },
    {
     "data": {
      "image/png": "[encoded data removed]",
      "text/plain": [
       "<Figure size 640x480 with 1 Axes>"
      ]
     },
     "metadata": {},
     "output_type": "display_data"
    }
   ],
   "source": [
    "for i in range(0, 1):\n",
    "    bodies = Particles(2)\n",
    "    bodies.name = [\"BH1\", \"BH2\"]\n",
    "    bodies.mass = new_powerlaw_mass_distribution(2, 1.0|units.MSun, 100.0|units.MSun, 2.35)\n",
    "    bodies[0].position = (random_p())\n",
    "    bodies[1].position = (random_p())\n",
    "    distance1, distance2 = dist(bodies[0]), dist(bodies[1])\n",
    "    bodies[0].velocity = (random_v(distance1))\n",
    "    bodies[1].velocity = (random_v(distance2))\n",
    "    bodies.add_particles(SMBH)\n",
    "    \n",
    "    bodies1 = bodies.copy()\n",
    "    BH3 = Particles(1)\n",
    "    BH3.name = \"BH3\"\n",
    "    BH3.mass = new_powerlaw_mass_distribution(1, 1.0|units.MSun, 100.0|units.MSun, 2.35)\n",
    "    BH3.position = (random_p())\n",
    "    BH3.velocity = (random_v(dist(BH3)))\n",
    "    bodies1.add_particles(BH3)\n",
    "    \n",
    "    converter = nbody_system.nbody_to_si(bodies1.mass.sum(), bodies1.position.length())\n",
    "#     bodies1.scale_to_standard(converter)\n",
    "    gravity = ph4(converter, number_of_workers=32)\n",
    "    gravity.particles.add_particles(bodies1)\n",
    "    channel = gravity.particles.new_channel_to(bodies1)\n",
    "\n",
    "\n",
    "    times = numpy.arange(0, 100, 1) | units.Myr\n",
    "    for time in times:\n",
    "        gravity.evolve_model(time)\n",
    "        channel.copy() # Copy from gravity.particles to bodies\n",
    "        if not time.value_in(units.Myr)%10.0:\n",
    "            print(\"Time=\", time.in_(units.Myr))\n",
    "        pyplot.scatter(bodies1[0].x.value_in(units.pc), bodies1[0].y.value_in(units.pc), s=10, c=\"r\", alpha=0.5)\n",
    "        pyplot.scatter(bodies1[1].x.value_in(units.pc), bodies1[1].y.value_in(units.pc), s=10, c=\"b\", alpha=0.5)\n",
    "        pyplot.scatter(bodies1[3].x.value_in(units.pc), bodies1[3].y.value_in(units.pc), s=10, c=\"g\", alpha=0.5)\n",
    "        b = (bodies1-SMBH).get_binaries()\n",
    "        if(len(b)>0):\n",
    "            print(\"Binary formed at\", time)\n",
    "            break\n",
    "    pyplot.scatter(bodies1[2].x.value_in(units.pc), bodies1[2].y.value_in(units.pc), s=50, c=\"k\")\n",
    "    pyplot.xlim(-3, 3)\n",
    "    pyplot.ylim(-3, 3)\n",
    "    pyplot.show()"
   ]
  },
  {
   "cell_type": "code",
   "execution_count": 4,
   "metadata": {},
   "outputs": [
    {
     "name": "stdout",
     "output_type": "stream",
     "text": [
      "                 key         mass         name           vx           vy           vz            x            y            z\n",
      "                   -         MSun         none  8028481.01748 * m * s**-1  8028481.01748 * m * s**-1          kms       parsec       parsec       parsec\n",
      "====================  ===========  ===========  ===========  ===========  ===========  ===========  ===========  ===========\n",
      " 8446487741022082745    6.112e+01          BH1   -1.751e-04   -6.126e-03    0.000e+00    1.800e+00   -1.493e+00    0.000e+00\n",
      " 4769854571926870865    9.357e+01          BH2    4.178e-03    2.811e-03    0.000e+00   -6.926e-01    1.394e+00    0.000e+00\n",
      " 4272991785244904154    4.154e+06         SMBH    0.000e+00    0.000e+00    0.000e+00    0.000e+00    0.000e+00    0.000e+00\n",
      "====================  ===========  ===========  ===========  ===========  ===========  ===========  ===========  ===========\n",
      "                 key         mass         name  potential_in_code       radius     timestep           vx           vy           vz            x            y            z\n",
      "                   -         MSun         none  m**2 * s**-2            m            s  8028481.01748 * m * s**-1  8028481.01748 * m * s**-1          kms       parsec       parsec       parsec\n",
      "====================  ===========  ===========  ===========  ===========  ===========  ===========  ===========  ===========  ===========  ===========  ===========\n",
      " 8446487741022082745    6.112e+01          BH1   -1.478e+10   -8.671e+16    8.494e+09   -6.358e-03   -6.567e-03    0.000e+00    4.110e-01   -8.697e-01    0.000e+00\n",
      " 4769854571926870865    9.357e+01          BH2   -2.442e+10   -8.671e+16    8.494e+09    1.235e-02   -6.470e-03    0.000e+00   -9.739e-01    3.301e-01    0.000e+00\n",
      " 4272991785244904154    4.154e+06         SMBH   -1.118e+06   -8.671e+16    4.247e+09   -1.120e-06   -3.290e-07    0.000e+00   -6.745e-01   -3.377e-01    0.000e+00\n",
      " 1291539240400417109    4.321e+01          BH3   -3.364e+10   -8.671e+16    4.247e+09    9.462e-03    1.538e-02    0.000e+00   -1.001e+00    8.135e-02    0.000e+00\n",
      "====================  ===========  ===========  ===========  ===========  ===========  ===========  ===========  ===========  ===========  ===========  ===========\n"
     ]
    }
   ],
   "source": [
    "print(bodies)\n",
    "print(bodies1)"
   ]
  },
  {
   "cell_type": "code",
   "execution_count": null,
   "metadata": {},
   "outputs": [],
   "source": []
  }
 ],
 "metadata": {
  "kernelspec": {
   "display_name": "Python 3",
   "language": "python",
   "name": "python3"
  },
  "language_info": {
   "codemirror_mode": {
    "name": "ipython",
    "version": 3
   },
   "file_extension": ".py",
   "mimetype": "text/x-python",
   "name": "python",
   "nbconvert_exporter": "python",
   "pygments_lexer": "ipython3",
   "version": "3.10.8"
  }
 },
 "nbformat": 4,
 "nbformat_minor": 4
}
