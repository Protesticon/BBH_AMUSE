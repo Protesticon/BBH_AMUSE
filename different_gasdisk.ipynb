{
 "cells": [
  {
   "cell_type": "code",
   "execution_count": 1,
   "metadata": {},
   "outputs": [],
   "source": [
    "%matplotlib inline\n",
    "import numpy\n",
    "import numpy as np\n",
    "from matplotlib import pyplot as plt\n",
    "from amuse.units import (units, constants)\n",
    "from amuse.ext.orbital_elements import new_binary_from_orbital_elements\n",
    "from amuse.ext.orbital_elements import orbital_elements_from_binary\n",
    "from amuse.ext.protodisk import ProtoPlanetaryDisk\n",
    "from amuse.ext.composition_methods import *\n",
    "from amuse.lab import Particles\n",
    "from amuse.lab import nbody_system\n",
    "from amuse.lab import new_powerlaw_mass_distribution\n",
    "from amuse.plot import scatter\n",
    "from amuse.community.ph4.interface import ph4\n",
    "from amuse.community.fi.interface import Fi\n",
    "from amuse.couple import bridge\n",
    "# from amuse.community.huayno.interface import Huayno"
   ]
  },
  {
   "cell_type": "code",
   "execution_count": 2,
   "metadata": {},
   "outputs": [],
   "source": [
    "def orbital_period(Mtot, a):\n",
    "    return (((4 * numpy.pi**2) * a**3)/(constants.G * Mtot)).sqrt()\n",
    "\n",
    "# def relative_orbital_velocity(distance, mass=SMBH.mass):\n",
    "#     return (constants.G*mass/distance).sqrt()\n",
    "\n",
    "def plot():\n",
    "    plt.figure(figsize=(8,6))\n",
    "    scatter(BHdisk.x.value_in(units.pc), BHdisk.y.value_in(units.pc), s=10, alpha=0.8, c='blue', label='BH')\n",
    "    scatter(SMBH.x.value_in(units.pc), SMBH.y.value_in(units.pc), s=50, c='r', label='SMBH')\n",
    "    plt.annotate(str(round(model_time.value_in(units.Myr)))+\" Myr\", xy=(6.9, 9), xytext=(6.9, 9), \n",
    "                 weight='heavy', bbox=dict(boxstyle='round,pad=0.5', fc='yellow', ec='k', lw=1, alpha=0.5))\n",
    "    #plt.title(\"Evolved to t = \"+str(round(model_time.value_in(units.Myr)))+\" Myr\")\n",
    "    plt.axis('square')\n",
    "    plt.xlim([-r, r])\n",
    "    plt.ylim([-r, r])\n",
    "    \n",
    "\n",
    "# Distance to (0,0)\n",
    "def dist(body):\n",
    "    return (body.x**2+body.y**2+body.z**2).sqrt()\n",
    "\n",
    "# Define collision detection\n",
    "def merge_two_stars(bodies, particles_in_encounter):\n",
    "    com_pos = particles_in_encounter.center_of_mass()\n",
    "    com_vel = particles_in_encounter.center_of_mass_velocity()\n",
    "    d = (particles_in_encounter[0].position - particles_in_encounter[1].position)\n",
    "    v = (particles_in_encounter[0].velocity - particles_in_encounter[1].velocity)\n",
    "    print(\"Two BHs\", particles_in_encounter.name, particles_in_encounter.mass.in_(units.MSun),\n",
    "          \"collided with d=\", d.length().in_(units.au))\n",
    "    \n",
    "    particles_in_encounter[np.argmax(particles_in_encounter.mass)].mass = particles_in_encounter.total_mass()\n",
    "    particles_in_encounter[np.argmax(particles_in_encounter.mass)].position = com_pos\n",
    "    particles_in_encounter[np.argmax(particles_in_encounter.mass)].velocity = com_vel\n",
    "    particles_in_encounter[np.argmax(particles_in_encounter.mass)].radius = particles_in_encounter.radius.sum()\n",
    "    bodies.remove_particle(particles_in_encounter[np.argmin(particles_in_encounter.mass)])\n",
    "    \n",
    "#     new_particle=Particles(1)\n",
    "#     new_particle.mass = particles_in_encounter.total_mass()\n",
    "#     new_particle.name = particles_in_encounter[np.argmax(particles_in_encounter.mass)].name\n",
    "#     new_particle.position = com_pos\n",
    "#     new_particle.velocity = com_vel\n",
    "#     new_particle.radius = particles_in_encounter.radius.sum()\n",
    "#     bodies.add_particles(new_particle)\n",
    "#     bodies.remove_particles(particles_in_encounter)\n",
    "    \n",
    "def resolve_collision(collision_detection, gravity, bodies):\n",
    "    if collision_detection.is_set():\n",
    "        print(\"Well, we have an actual collision between two or more BHs.\")\n",
    "        print(\"This happened at time=\", gravity.model_time.in_(units.Myr))\n",
    "        for ci in range(len(collision_detection.particles(0))): \n",
    "            encountering_particles = Particles(particles=[collision_detection.particles(0)[ci],\n",
    "                                                          collision_detection.particles(1)[ci]])\n",
    "            colliding_BHs = encountering_particles.get_intersecting_subset_in(bodies)\n",
    "            merge_two_stars(bodies, colliding_BHs)\n",
    "            bodies.synchronize_to(gravity.particles)\n",
    "\n",
    "            \n",
    "            \n",
    "# Binaries detection\n",
    "def get_binaries(particles,hardness=0.5,G=constants.G):\n",
    "    n=len(particles)\n",
    "    total_Ek=(0.5*particles.mass*(particles.vx**2+particles.vy**2+particles.vz**2)).sum()\n",
    "    average_Ek=total_Ek/particles.mass.sum()\n",
    "    max_mass=particles.mass.amax()\n",
    "    limitE=hardness*average_Ek\n",
    "    \n",
    "    a=numpy.argsort(particles.x.number)\n",
    "    a=np.delete(a,particles[a].name==\"SMBH\")\n",
    "    n=len(a)\n",
    "\n",
    "    binaries=[]\n",
    "\n",
    "    for i in range(0, n-1):\n",
    "        j=i+1\n",
    "        while j<n and j<i+10 and (particles.x[a[j]]-particles.x[a[i]])<2*G*max_mass/limitE:\n",
    "            r2=(particles.x[a[j]]-particles.x[a[i]])**2+ \\\n",
    "               (particles.y[a[j]]-particles.y[a[i]])**2+ \\\n",
    "               (particles.z[a[j]]-particles.z[a[i]])**2 \n",
    "            v2=(particles.vx[a[j]]-particles.vx[a[i]])**2+ \\\n",
    "               (particles.vy[a[j]]-particles.vy[a[i]])**2+ \\\n",
    "               (particles.vz[a[j]]-particles.vz[a[i]])**2 \n",
    "            r=r2**0.5\n",
    "            eb=G*(particles.mass[a[i]]+particles.mass[a[j]])/r-0.5*v2\n",
    "            if eb > limitE:\n",
    "                binary=particles[[a[i],a[j]]].copy()\n",
    "                binary.hardness=eb/average_Ek\n",
    "                com_pos = binary.center_of_mass()\n",
    "                binary_momentum = binary.velocity * binary.mass.reshape((-1,1))\n",
    "                L_b = (binary.position-com_pos).cross(binary_momentum).sum(axis=0)\n",
    "                L_b = L_b.in_(units.pc*units.MSun*units.km/units.s)\n",
    "                binary.thetaz = L_b[2] / L_b.length() # angle between the angular momentum and z-axis\n",
    "                binaries.append(binary)\n",
    "            j+=1  \n",
    "\n",
    "    return binaries, average_Ek"
   ]
  },
  {
   "cell_type": "markdown",
   "metadata": {},
   "source": [
    "## Initial condition"
   ]
  },
  {
   "cell_type": "code",
   "execution_count": 16,
   "metadata": {},
   "outputs": [],
   "source": [
    "# Start with Sgr A*\n",
    "SMBH = Particles(1) \n",
    "SMBH.name = \"SMBH\"\n",
    "SMBH.mass = 4.154e+6 | units.MSun\n",
    "SMBH.position = (0, 0, 0) | units.pc\n",
    "SMBH.velocity = (0, 0, 0) | units.kms\n",
    "SMBH.radius = 2*constants.G*SMBH.mass/constants.c**2\n",
    "\n",
    "n_BHs = 300 # Number of stellar-mass BHs\n",
    "r = 10 # (parsec) The outmost orbital radius of BHs surrounding the SMBH\n",
    "model_time = 0 | units.Myr\n",
    "\n",
    "# Make BH disk\n",
    "def make_BHdisk_around_SMBH(SMBH, n_BHs=n_BHs):\n",
    "    R = r|units.pc\n",
    "    Ndisk = n_BHs\n",
    "    Rin = 0.1\n",
    "    Rout = 1\n",
    "    Pinner1 = orbital_period(SMBH.mass, Rin*R)\n",
    "    converter1 = nbody_system.nbody_to_si(SMBH.mass.sum(), R)\n",
    "    masses = new_powerlaw_mass_distribution(Ndisk, 1.0|units.MSun, 100.0|units.MSun, 2.35) # BH masses in powerlaw\n",
    "    BHdisk = ProtoPlanetaryDisk(Ndisk,\n",
    "                              convert_nbody=converter1,\n",
    "                              Rmin=Rin,\n",
    "                              Rmax=Rout,\n",
    "                              q_out=10.0,\n",
    "                              discfraction=masses.sum()/SMBH.mass).result\n",
    "    BHdisk.mass = masses\n",
    "    BHdisk.name = np.arange(1,n_BHs+1).astype(\"str\")\n",
    "    BHdisk.radius = 2*constants.G*BHdisk.mass/constants.c**2\n",
    "    BHdisk.remove_attribute_from_store('u')\n",
    "#     BHdisk.move_to_center()\n",
    "    return BHdisk, Pinner1, converter1\n",
    "\n",
    "# Make gas disk\n",
    "def make_gasdisk_around_SMBH(SMBH=SMBH, Mdisk=1e-3, rho=3.0, Ndisk=1000):\n",
    "    R = r|units.pc\n",
    "    Ndisk = Ndisk\n",
    "    Rin = 0.1\n",
    "    Rout = 1\n",
    "    Pinner2 = orbital_period(SMBH.mass, Rin*R)\n",
    "    Mdisk = Mdisk * SMBH.mass\n",
    "    converter2 = nbody_system.nbody_to_si(SMBH.mass.sum(), R)\n",
    "    \n",
    "    gasdisk = ProtoPlanetaryDisk(Ndisk,\n",
    "                              convert_nbody=converter2,\n",
    "                              Rmin=Rin,\n",
    "                              Rmax=Rout,\n",
    "                              q_out=10.0,\n",
    "                              discfraction=Mdisk/SMBH.mass).result\n",
    "    gasdisk.name = \"gas disk\"\n",
    "#     gasdisk.move_to_center()\n",
    "    masses = Mdisk/float(Ndisk)\n",
    "    gasdisk.mass = masses\n",
    "    rho = rho | (units.g/units.cm**3)\n",
    "    gasdisk.radius = (gasdisk.mass/(4*rho))**(1./3.)\n",
    "    return gasdisk, Pinner2, converter2\n",
    "\n",
    "gasdisk, Pinner2, converter2 = make_gasdisk_around_SMBH(SMBH)\n",
    "BHdisk, Pinner1, converter1 = make_BHdisk_around_SMBH(SMBH)\n",
    "\n",
    "# Name each BH\n",
    "for i in range(n_BHs):\n",
    "    BHdisk[i].name = \"BH\"+BHdisk[i].name\n",
    "    \n",
    "# Backup\n",
    "SMBH0, BHdisk0, gasdisk0 = SMBH.copy(), BHdisk.copy(), gasdisk.copy()\n",
    "\n",
    "BH_init = np.loadtxt(\"BH_init.txt\", dtype='str',delimiter=',')\n",
    "for i in range(len(BHdisk0)):\n",
    "    BHdisk0.mass[i] = float(BH_init[i,0]) | units.MSun\n",
    "    BHdisk0.name[i] = BH_init[i,1]\n",
    "    BHdisk0.radius[i] = float(BH_init[i,2]) | units.m\n",
    "    BHdisk0.vx[i] = float(BH_init[i,3]) | units.kms\n",
    "    BHdisk0.vy[i] = float(BH_init[i,4]) | units.kms\n",
    "    BHdisk0.vz[i] = float(BH_init[i,5]) | units.kms\n",
    "    BHdisk0.x[i] = float(BH_init[i,6]) | units.pc\n",
    "    BHdisk0.y[i] = float(BH_init[i,7]) | units.pc\n",
    "    BHdisk0.z[i] = float(BH_init[i,8]) | units.pc\n",
    "    \n",
    "BHdisk = BHdisk0.copy()"
   ]
  },
  {
   "cell_type": "code",
   "execution_count": null,
   "metadata": {},
   "outputs": [],
   "source": []
  },
  {
   "cell_type": "code",
   "execution_count": 10,
   "metadata": {},
   "outputs": [
    {
     "data": {
      "image/png": "[encoded data removed]",
      "text/plain": [
       "<Figure size 576x432 with 1 Axes>"
      ]
     },
     "metadata": {
      "needs_background": "light"
     },
     "output_type": "display_data"
    }
   ],
   "source": [
    "# The initial distribution of our objects\n",
    "plot()\n",
    "scatter(gasdisk.x.value_in(units.pc), gasdisk.y.value_in(units.pc), s=5, alpha=0.3, c='gray', label=\"gas disk\")\n",
    "plt.xlabel(\"x [pc]\")\n",
    "plt.ylabel(\"y [pc]\")\n",
    "plt.legend(bbox_to_anchor=(1.01, 0), loc=3, borderaxespad=0)\n",
    "plt.show()"
   ]
  },
  {
   "cell_type": "code",
   "execution_count": null,
   "metadata": {},
   "outputs": [],
   "source": []
  },
  {
   "cell_type": "code",
   "execution_count": null,
   "metadata": {},
   "outputs": [],
   "source": []
  },
  {
   "cell_type": "code",
   "execution_count": null,
   "metadata": {},
   "outputs": [],
   "source": []
  },
  {
   "cell_type": "markdown",
   "metadata": {},
   "source": [
    "## Bridge Nbody with gas disk"
   ]
  },
  {
   "cell_type": "code",
   "execution_count": 29,
   "metadata": {},
   "outputs": [],
   "source": [
    "import os,sys\n",
    "\n",
    "def ProgressBar(total, progress):\n",
    "    barLength, status = 20, \"\"\n",
    "    progress = float(progress) / float(total)\n",
    "    if progress >= 1.:\n",
    "        progress, status = 1, \"\\r\\n\"\n",
    "    block = int(round(barLength * progress))\n",
    "    text = \"\\r[{}] {:.0f}% {}\".format(\n",
    "        \"#\" * block + \"-\" * (barLength - block), round(progress * 100, 0),\n",
    "        status)\n",
    "    sys.stdout.write(text)\n",
    "    sys.stdout.flush()"
   ]
  },
  {
   "cell_type": "code",
   "execution_count": 86,
   "metadata": {},
   "outputs": [],
   "source": [
    "def gravhydro(Mdisk=1e-3, rho=3.0, Ndisk=1000):\n",
    "    \n",
    "    print(\"Running(Mdisk=\"+str(Mdisk)+\",rho=\"+str(rho)+\",Ndisk=\"+str(Ndisk)+\")......\")\n",
    "    \n",
    "    bodies = Particles(0)\n",
    "    bodies.add_particles(SMBH0)\n",
    "    bodies.add_particles(BHdisk0)\n",
    "    \n",
    "    gasdisk, Pinner2, converter2 = make_gasdisk_around_SMBH(SMBH0, Mdisk=Mdisk, rho=rho, Ndisk=Ndisk)\n",
    "\n",
    "    SMBH = bodies[bodies.name==\"SMBH\"]\n",
    "    BHdisk = bodies[bodies.name!=\"SMBH\"]\n",
    "\n",
    "    Nbody = SMBH+BHdisk\n",
    "\n",
    "    gravityA = ph4(converter2, number_of_workers=32)\n",
    "    gravityA.particles.add_particles(Nbody)\n",
    "    channel = {\"from_BHs\": bodies.new_channel_to(gravityA.particles),\n",
    "                \"to_BHs\": gravityA.particles.new_channel_to(bodies)}\n",
    "\n",
    "    hydro = Fi(converter2, mode=\"openmp\", workers=32)\n",
    "    hydro.parameters.use_hydro_flag = True\n",
    "    hydro.parameters.radiation_flag = False\n",
    "    hydro.parameters.gamma = 1\n",
    "    hydro.parameters.isothermal_flag = True\n",
    "    hydro.parameters.integrate_entropy_flag = False\n",
    "    hydro.parameters.timestep = 5e2 | units.yr\n",
    "    hydro.parameters.verbosity = 0\n",
    "    hydro.parameters.eps_is_h_flag = False    # h_smooth is constant\n",
    "    eps = 10 | units.au\n",
    "    hydro.parameters.gas_epsilon = eps\n",
    "    hydro.parameters.sph_h_const = eps\n",
    "    \n",
    "    bodies.add_particles(gasdisk)\n",
    "    gasdisk = bodies[bodies.name==\"gas disk\"]\n",
    "\n",
    "    hydro.particles.add_particles(gasdisk)\n",
    "    # hydro.dm_particles.add_particles(SMBH.as_set())\n",
    "    channel.update({\"from_gasdisk\": gasdisk.new_channel_to(hydro.particles)})\n",
    "    channel.update({\"to_gasdisk\": hydro.particles.new_channel_to(gasdisk)})\n",
    "    # channel.update({\"from_smbh\": SMBH.new_channel_to(hydro.dm_particles)})\n",
    "    # channel.update({\"to_smbh\": hydro.dm_particles.new_channel_to(SMBH)})\n",
    "\n",
    "    fig_root = \"figure_disk/\"\n",
    "    fig_root1 = fig_root+\"Mdisk=\"+str(Mdisk)+\"_rho=\"+str(rho)+\"_Ndisk=\"+str(Ndisk)+\"/\"\n",
    "    \n",
    "    if os.path.exists(fig_root1)==False:\n",
    "        os.mkdir(fig_root1)\n",
    "    \n",
    "    # Bridge gravity and hydro\n",
    "    gravhydro = bridge.Bridge(use_threading=False) #, method=SPLIT_4TH_S_M4)\n",
    "    gravhydro.add_system(gravityA, (hydro,))\n",
    "    gravhydro.add_system(hydro, (gravityA,))\n",
    "\n",
    "    # Stopping condition of collision \n",
    "    stopping_condition = gravityA.stopping_conditions.collision_detection\n",
    "    stopping_condition.enable()\n",
    "    collision_radius_multiplication_factor = 1e5\n",
    "\n",
    "    Nbody.radius *= collision_radius_multiplication_factor\n",
    "\n",
    "    # Bridge timestep\n",
    "    gravhydro.timestep = 5e3 | units.yr\n",
    "\n",
    "    binary_b = []\n",
    "\n",
    "    model_time = 0 | units.Myr\n",
    "    end_time = 6 | units.Myr\n",
    "    time = [] | units.Myr\n",
    "    dt = 1 | units.Myr\n",
    "    x = 0\n",
    "\n",
    "    gravity_initial_total_energy = gravityA.get_total_energy() + hydro.get_total_energy()\n",
    "\n",
    "    while model_time < end_time:    \n",
    "\n",
    "        gravhydro.evolve_model(model_time)\n",
    "        resolve_collision(stopping_condition, gravityA, Nbody) # Collision detection\n",
    "\n",
    "        channel[\"to_BHs\"].copy()\n",
    "        channel[\"to_gasdisk\"].copy()\n",
    "\n",
    "        if model_time.value_in(units.Myr)>=x:\n",
    "            x+=1\n",
    "\n",
    "            plot()\n",
    "            scatter(gasdisk.x.value_in(units.pc), gasdisk.y.value_in(units.pc), s=5, alpha=0.3, c='gray', label=\"gas disk\")\n",
    "\n",
    "            b, average_Ek = get_binaries(Nbody) # Binaries detection\n",
    "\n",
    "            if(len(b)>0):\n",
    "\n",
    "                for i in range(len(b)):\n",
    "\n",
    "                    binary_b.append([b[i].mass.sum().number, b[i].hardness[0], \n",
    "                                     (b[i].position[0] - b[i].position[1]).length().in_(units.au).number,\n",
    "                                   b[i].center_of_mass().length().in_(units.pc).number, b[i].thetaz[0],\n",
    "                                    (b[i].velocity[0] - b[i].velocity[1]).length().in_(units.kms).number])\n",
    "\n",
    "                    if b[i].hardness[0]<10:\n",
    "                        scatter([b[i].x[0].value_in(units.pc), b[i].x[1].value_in(units.pc)], \n",
    "                                    [b[i].y[0].value_in(units.pc), b[i].y[1].value_in(units.pc)], \n",
    "                                    s=10, alpha=1, c='orange')\n",
    "                    else:\n",
    "                        scatter([b[i].x[0].value_in(units.pc), b[i].x[1].value_in(units.pc)], \n",
    "                                    [b[i].y[0].value_in(units.pc), b[i].y[1].value_in(units.pc)], \n",
    "                                    s=10, alpha=1, c='g') \n",
    "\n",
    "            plt.xlabel(\"x [pc]\")\n",
    "            plt.ylabel(\"y [pc]\")\n",
    "            plt.legend(bbox_to_anchor=(1.01, 0), loc=3, borderaxespad=0)\n",
    "            plt.savefig(fig_root1+''+str(int(model_time.value_in(units.Myr)))+'_Myr.png', dpi=150, bbox_inches='tight')\n",
    "            plt.close()\n",
    "\n",
    "        model_time += dt\n",
    "        ProgressBar(end_time.value_in(units.Myr), model_time.value_in(units.Myr))\n",
    "\n",
    "    gravityA.stop()\n",
    "    hydro.stop()\n",
    "    print(\"Finished.\")\n",
    "    \n",
    "    return binary_b"
   ]
  },
  {
   "cell_type": "markdown",
   "metadata": {},
   "source": [
    "### Test with default settings"
   ]
  },
  {
   "cell_type": "code",
   "execution_count": 87,
   "metadata": {},
   "outputs": [
    {
     "name": "stdout",
     "output_type": "stream",
     "text": [
      "Running(Mdisk=0.001,rho=3.0,Ndisk=1000)......\n",
      "[####################] 100% \n",
      "Finished.\n",
      "Running(Mdisk=0.001,rho=3.0,Ndisk=1000)......\n",
      "[####################] 100% \n",
      "Finished.\n",
      "Running(Mdisk=0.001,rho=3.0,Ndisk=1000)......\n",
      "[##########----------] 50% "
     ]
    },
    {
     "name": "stderr",
     "output_type": "stream",
     "text": [
      "Exception ignored in: <function CodeInterface.__del__ at 0x7f458d137ba0>\n",
      "Traceback (most recent call last):\n",
      "  File \"/software/amuse/amuse-2021.6/lib/python3.9/site-packages/amuse/rfi/core.py\", line 755, in __del__\n",
      "    self._stop()\n",
      "  File \"/software/amuse/amuse-2021.6/lib/python3.9/site-packages/amuse/rfi/core.py\", line 845, in _stop\n",
      "    self._stop_worker()\n",
      "  File \"/software/amuse/amuse-2021.6/lib/python3.9/site-packages/amuse/rfi/core.py\", line 123, in __call__\n",
      "    raise exceptions.CodeException(\"Exception when calling function '{0}', of code '{1}', exception was '{2}'\".format(self.specification.name, type(self.interface).__name__, ex))\n",
      "amuse.support.exceptions.CodeException: Exception when calling function '_stop_worker', of code 'ph4Interface', exception was '[Errno 32] Broken pipe'\n",
      "Exception ignored in: <function CodeInterface.__del__ at 0x7f458d137ba0>\n",
      "Traceback (most recent call last):\n",
      "  File \"/software/amuse/amuse-2021.6/lib/python3.9/site-packages/amuse/rfi/core.py\", line 755, in __del__\n",
      "    self._stop()\n",
      "  File \"/software/amuse/amuse-2021.6/lib/python3.9/site-packages/amuse/rfi/core.py\", line 845, in _stop\n",
      "    self._stop_worker()\n",
      "  File \"/software/amuse/amuse-2021.6/lib/python3.9/site-packages/amuse/rfi/core.py\", line 123, in __call__\n",
      "    raise exceptions.CodeException(\"Exception when calling function '{0}', of code '{1}', exception was '{2}'\".format(self.specification.name, type(self.interface).__name__, ex))\n",
      "amuse.support.exceptions.CodeException: Exception when calling function '_stop_worker', of code 'FiInterface', exception was '[Errno 32] Broken pipe'\n"
     ]
    },
    {
     "name": "stdout",
     "output_type": "stream",
     "text": [
      "[####################] 100% \n",
      "Finished.\n",
      "Running(Mdisk=0.001,rho=3.0,Ndisk=1000)......\n",
      "[####################] 100% \n",
      "Finished.\n",
      "Running(Mdisk=0.001,rho=3.0,Ndisk=1000)......\n",
      "[####################] 100% \n",
      "Finished.\n",
      "Running(Mdisk=0.001,rho=3.0,Ndisk=1000)......\n",
      "[####################] 100% \n",
      "Finished.\n",
      "Running(Mdisk=0.001,rho=3.0,Ndisk=1000)......\n",
      "[####################] 100% \n",
      "Finished.\n",
      "Running(Mdisk=0.001,rho=3.0,Ndisk=1000)......\n",
      "[####################] 100% \n",
      "Finished.\n",
      "Running(Mdisk=0.001,rho=3.0,Ndisk=1000)......\n",
      "[####################] 100% \n",
      "Finished.\n",
      "Running(Mdisk=0.001,rho=3.0,Ndisk=1000)......\n",
      "[####################] 100% \n",
      "Finished.\n",
      "Running(Mdisk=0.001,rho=3.0,Ndisk=1000)......\n",
      "[####################] 100% \n",
      "Finished.\n",
      "Running(Mdisk=0.001,rho=3.0,Ndisk=1000)......\n",
      "[####################] 100% \n",
      "Finished.\n",
      "Running(Mdisk=0.001,rho=3.0,Ndisk=1000)......\n",
      "[####################] 100% \n",
      "Finished.\n",
      "Running(Mdisk=0.001,rho=3.0,Ndisk=1000)......\n",
      "[####################] 100% \n",
      "Finished.\n",
      "Running(Mdisk=0.001,rho=3.0,Ndisk=1000)......\n",
      "[####################] 100% \n",
      "Finished.\n",
      "Running(Mdisk=0.001,rho=3.0,Ndisk=1000)......\n",
      "[####################] 100% \n",
      "Finished.\n",
      "Running(Mdisk=0.001,rho=3.0,Ndisk=1000)......\n",
      "[####################] 100% \n",
      "Finished.\n",
      "Running(Mdisk=0.001,rho=3.0,Ndisk=1000)......\n",
      "[####################] 100% \n",
      "Finished.\n",
      "Running(Mdisk=0.001,rho=3.0,Ndisk=1000)......\n",
      "[####################] 100% \n",
      "Finished.\n",
      "Running(Mdisk=0.001,rho=3.0,Ndisk=1000)......\n",
      "[####################] 100% \n",
      "Finished.\n"
     ]
    }
   ],
   "source": [
    "result = []\n",
    "Hardness = []\n",
    "Mdisk, rho, Ndisk = 1e-3, 3.0, 1000\n",
    "for i in range(20):\n",
    "    binary = gravhydro(Mdisk=Mdisk, rho=rho, Ndisk=Ndisk)\n",
    "    binary = np.array(binary)\n",
    "    Hardness.append([len(binary), np.mean(binary[:,1])])\n",
    "    \n",
    "Hardness = np.array(Hardness)"
   ]
  },
  {
   "cell_type": "code",
   "execution_count": 94,
   "metadata": {
    "scrolled": true
   },
   "outputs": [
    {
     "name": "stdout",
     "output_type": "stream",
     "text": [
      "Average binaries: 13.7894736842 \n",
      "Average hardness: 1.23149603624\n"
     ]
    }
   ],
   "source": [
    "Hardness = np.delete(Hardness, 2, 0)\n",
    "\n",
    "result.append([Mdisk, rho, Ndisk, np.mean(Hardness[:,0]), np.std(Hardness[:,0]), np.mean(Hardness[:,1]), np.std(Hardness[:,1])])\n",
    "\n",
    "print(\"Average binaries:\", result[0][3], \"\\nAverage hardness:\", result[0][5])"
   ]
  },
  {
   "cell_type": "code",
   "execution_count": 95,
   "metadata": {},
   "outputs": [
    {
     "name": "stdout",
     "output_type": "stream",
     "text": [
      "[[0.001, 3.0, 1000, 13.789473684210526, 3.4880087422696615, 1.2314960362388891, 0.32008317393182295]]\n"
     ]
    }
   ],
   "source": [
    "print(result)"
   ]
  },
  {
   "cell_type": "raw",
   "metadata": {},
   "source": [
    "Mdisk = [1e-4, 1e-3.6, 1e-3.2, 1e-2.8, 1e-2.4]\n",
    "rho = [0.03, 0.3, 30]\n",
    "Ndisk = [100, 300, 500, 2000, 5000]"
   ]
  },
  {
   "cell_type": "markdown",
   "metadata": {},
   "source": [
    "### Mdisk=1e-4"
   ]
  },
  {
   "cell_type": "code",
   "execution_count": null,
   "metadata": {},
   "outputs": [],
   "source": [
    "Hardness = []\n",
    "Mdisk, rho, Ndisk = 1e-4, 3.0, 1000\n",
    "for i in range(20):\n",
    "    binary = gravhydro(Mdisk=Mdisk, rho=rho, Ndisk=Ndisk)\n",
    "    binary = np.array(binary)\n",
    "    Hardness.append([len(binary), np.mean(binary[:,1])])\n",
    "    \n",
    "Hardness = np.array(Hardness)"
   ]
  },
  {
   "cell_type": "code",
   "execution_count": null,
   "metadata": {},
   "outputs": [],
   "source": [
    "# Hardness = np.delete(Hardness, 2, 0)\n",
    "\n",
    "result.append([Mdisk, rho, Ndisk, np.mean(Hardness[:,0]), np.std(Hardness[:,0]), np.mean(Hardness[:,1]), np.std(Hardness[:,1])])\n",
    "\n",
    "print(\"Average binaries:\", result[0][3], \"\\nAverage hardness:\", result[0][5])"
   ]
  },
  {
   "cell_type": "markdown",
   "metadata": {},
   "source": [
    "## Analysis"
   ]
  },
  {
   "cell_type": "code",
   "execution_count": 39,
   "metadata": {},
   "outputs": [
    {
     "data": {
      "image/png": "[encoded data removed]",
      "text/plain": [
       "<Figure size 432x288 with 1 Axes>"
      ]
     },
     "metadata": {
      "needs_background": "light"
     },
     "output_type": "display_data"
    },
    {
     "data": {
      "image/png": "[encoded data removed]",
      "text/plain": [
       "<Figure size 432x288 with 1 Axes>"
      ]
     },
     "metadata": {
      "needs_background": "light"
     },
     "output_type": "display_data"
    },
    {
     "data": {
      "image/png": "[encoded data removed]",
      "text/plain": [
       "<Figure size 432x288 with 1 Axes>"
      ]
     },
     "metadata": {
      "needs_background": "light"
     },
     "output_type": "display_data"
    },
    {
     "data": {
      "image/png": "[encoded data removed]",
      "text/plain": [
       "<Figure size 432x288 with 1 Axes>"
      ]
     },
     "metadata": {
      "needs_background": "light"
     },
     "output_type": "display_data"
    },
    {
     "data": {
      "image/png": "[encoded data removed]",
      "text/plain": [
       "<Figure size 432x288 with 1 Axes>"
      ]
     },
     "metadata": {
      "needs_background": "light"
     },
     "output_type": "display_data"
    }
   ],
   "source": [
    "# Binary properties\n",
    "binary_n = np.array(binary_n)\n",
    "binary_b = np.array(binary_b)\n",
    "mass_n, mass_b = binary_n[:,0], binary_b[:,0]\n",
    "hardness_n, hardness_b = binary_n[:,1], binary_b[:,1]\n",
    "d_n, d_b = binary_n[:,2], binary_b[:,2]\n",
    "radius_n, radius_b = binary_n[:,3], binary_b[:,3]\n",
    "thetaz_n, thetaz_b = binary_n[:,4], binary_b[:,4]\n",
    "v_n, v_b = binary_n[:,5], binary_b[:,5]\n",
    "\n",
    "plt.figure()\n",
    "scatter(np.arccos(thetaz_n), hardness_n, label=\"nbody\")\n",
    "scatter(np.arccos(thetaz_b), hardness_b, label=\"bridge\")\n",
    "plt.xlabel(r'$\\theta_{AM, z}$', fontsize=12)\n",
    "plt.ylabel('Hardness',fontsize=12)\n",
    "plt.legend(loc='best')\n",
    "plt.savefig('figure/hardness vs. thetaz of binaries.png')\n",
    "plt.show()\n",
    "\n",
    "plt.figure()\n",
    "scatter(radius_n, hardness_n, label=\"nbody\")\n",
    "scatter(radius_b, hardness_b, label=\"bridge\")\n",
    "plt.xlabel('Radius [pc]',fontsize=12)\n",
    "plt.ylabel('Hardness',fontsize=12)\n",
    "plt.legend(loc='best')\n",
    "plt.savefig('figure/hardness vs. orbital radius of binaries.png')\n",
    "plt.show()\n",
    "\n",
    "plt.figure()\n",
    "scatter(mass_n, hardness_n, label=\"nbody\")\n",
    "scatter(mass_b, hardness_b, label=\"bridge\")\n",
    "plt.xlabel('Total mass [Msun]',fontsize=12)\n",
    "plt.ylabel('Hardness',fontsize=12)\n",
    "plt.legend(loc='best')\n",
    "plt.savefig('figure/hardness vs. total mass of binaries.png')\n",
    "plt.show()\n",
    "\n",
    "plt.figure()\n",
    "scatter(d_n, hardness_n, label=\"nbody\")\n",
    "scatter(d_b, hardness_b, label=\"bridge\")\n",
    "plt.xlabel('Relative distance [AU]',fontsize=12)\n",
    "plt.ylabel('Hardness',fontsize=12)\n",
    "plt.legend(loc='best')\n",
    "plt.savefig('figure/hardness vs. relative distance of binaries.png')\n",
    "plt.show()\n",
    "\n",
    "plt.figure()\n",
    "scatter(v_n, hardness_n, label=\"nbody\")\n",
    "scatter(v_b, hardness_b, label=\"bridge\")\n",
    "plt.xlabel('Relative velocity [km/s]',fontsize=12)\n",
    "plt.ylabel('Hardness',fontsize=12)\n",
    "plt.legend(loc='best')\n",
    "plt.savefig('figure/hardness vs. relative velocity of binaries.png')\n",
    "plt.show()"
   ]
  },
  {
   "cell_type": "code",
   "execution_count": 16,
   "metadata": {},
   "outputs": [
    {
     "name": "stdout",
     "output_type": "stream",
     "text": [
      "Nbody soft/hard binaries number in 80 Myr is 81\n",
      "Bridge soft/hard binaries number in 80 Myr is 96\n"
     ]
    }
   ],
   "source": [
    "print(\"Nbody soft/hard binaries number in\", end_time, \"is\", len(binary_n))\n",
    "print(\"Bridge soft/hard binaries number in\", end_time, \"is\", len(binary_b))"
   ]
  },
  {
   "cell_type": "code",
   "execution_count": null,
   "metadata": {},
   "outputs": [],
   "source": []
  },
  {
   "cell_type": "code",
   "execution_count": null,
   "metadata": {},
   "outputs": [],
   "source": []
  },
  {
   "cell_type": "code",
   "execution_count": null,
   "metadata": {},
   "outputs": [],
   "source": []
  }
 ],
 "metadata": {
  "kernelspec": {
   "display_name": "Python 3",
   "language": "python",
   "name": "python3"
  },
  "language_info": {
   "codemirror_mode": {
    "name": "ipython",
    "version": 3
   },
   "file_extension": ".py",
   "mimetype": "text/x-python",
   "name": "python",
   "nbconvert_exporter": "python",
   "pygments_lexer": "ipython3",
   "version": "3.11.0"
  }
 },
 "nbformat": 4,
 "nbformat_minor": 4
}
