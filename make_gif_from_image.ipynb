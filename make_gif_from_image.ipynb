{
 "cells": [
  {
   "cell_type": "code",
   "execution_count": 1,
   "id": "30c769ff",
   "metadata": {},
   "outputs": [],
   "source": [
    "import imageio.v2 as imageio\n",
    "a='./figure/Nbody/'\n",
    "N=10\n",
    "img_paths = []\n",
    "for i in range(N):\n",
    "    img_paths.append(a+str(i)+'_Myr.png')\n",
    "    gif_images = []\n"
   ]
  },
  {
   "cell_type": "code",
   "execution_count": 2,
   "id": "f5468390",
   "metadata": {},
   "outputs": [
    {
     "data": {
      "text/plain": [
       "['./figure/Nbody/0_Myr.png',\n",
       " './figure/Nbody/1_Myr.png',\n",
       " './figure/Nbody/2_Myr.png',\n",
       " './figure/Nbody/3_Myr.png',\n",
       " './figure/Nbody/4_Myr.png',\n",
       " './figure/Nbody/5_Myr.png',\n",
       " './figure/Nbody/6_Myr.png',\n",
       " './figure/Nbody/7_Myr.png',\n",
       " './figure/Nbody/8_Myr.png',\n",
       " './figure/Nbody/9_Myr.png']"
      ]
     },
     "execution_count": 2,
     "metadata": {},
     "output_type": "execute_result"
    }
   ],
   "source": [
    "img_paths"
   ]
  },
  {
   "cell_type": "code",
   "execution_count": 4,
   "id": "e5145423",
   "metadata": {},
   "outputs": [],
   "source": [
    "for path in img_paths:\n",
    "    gif_images.append(imageio.imread(path))\n",
    "imageio.mimsave(\"test_Nbody.gif\",gif_images,fps=5)"
   ]
  },
  {
   "cell_type": "code",
   "execution_count": null,
   "id": "00a1dd14",
   "metadata": {},
   "outputs": [],
   "source": []
  }
 ],
 "metadata": {
  "kernelspec": {
   "display_name": "Python 3 (ipykernel)",
   "language": "python",
   "name": "python3"
  },
  "language_info": {
   "codemirror_mode": {
    "name": "ipython",
    "version": 3
   },
   "file_extension": ".py",
   "mimetype": "text/x-python",
   "name": "python",
   "nbconvert_exporter": "python",
   "pygments_lexer": "ipython3",
   "version": "3.8.0"
  }
 },
 "nbformat": 4,
 "nbformat_minor": 5
}
