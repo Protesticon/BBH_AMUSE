{
 "cells": [
  {
   "cell_type": "code",
   "execution_count": 1,
   "metadata": {},
   "outputs": [],
   "source": [
    "%matplotlib inline\n",
    "import numpy\n",
    "import numpy as np\n",
    "from matplotlib import pyplot\n",
    "from amuse.plot import scatter\n",
    "from amuse.units import (units, constants)\n",
    "from amuse.ext.orbital_elements import new_binary_from_orbital_elements\n",
    "from amuse.ext.orbital_elements import orbital_elements_from_binary\n",
    "from amuse.lab import Particles\n",
    "from amuse.lab import new_powerlaw_mass_distribution\n",
    "from amuse.lab import nbody_system\n",
    "from amuse.community.ph4.interface import ph4\n",
    "from amuse.ext.LagrangianRadii import LagrangianRadii\n",
    "def orbital_period(Mtot, a):\n",
    "    return (((4 * numpy.pi**2) * a**3)/(constants.G * Mtot)).sqrt()\n",
    "\n",
    "SMBH = Particles(1)\n",
    "SMBH.name = \"SMBH\"\n",
    "SMBH.mass = 4.154e+6 | units.MSun\n",
    "SMBH.position = (0, 0, 0) | units.pc\n",
    "SMBH.velocity = (0, 0, 0) | units.kms"
   ]
  },
  {
   "cell_type": "code",
   "execution_count": 2,
   "metadata": {},
   "outputs": [],
   "source": [
    "def relative_orbital_velocity(distance, mass=SMBH.mass):\n",
    "    return (constants.G*mass/distance).sqrt()\n",
    "\n",
    "def dist(body):\n",
    "    return (body.x**2+body.y**2+body.z**2).sqrt()\n",
    "\n",
    "def plot(body):\n",
    "    r = 3\n",
    "    scatter(body.x.value_in(units.pc), body.y.value_in(units.pc), s=5, alpha=0.5)\n",
    "    #scatter(SMBH.x.value_in(units.pc), SMBH.z.value_in(units.pc), s=80, c='r')\n",
    "    pyplot.xlim(-r, r)\n",
    "    pyplot.ylim(-r, r)\n",
    "    \n",
    "def random_p(r_in=0, r_out=3):\n",
    "    r=r_in + np.random.rand()*(r_out-r_in)\n",
    "    a=np.random.rand()*2*np.pi\n",
    "    x=r*np.cos(a) | units.pc\n",
    "    y=r*np.sin(a) | units.pc\n",
    "    z = 0 | units.pc\n",
    "    return x,y,z\n",
    "    \n",
    "def random_v(distance):\n",
    "    r = 3\n",
    "    v=(np.random.rand()*(2*(constants.G*SMBH.mass/distance-constants.G*SMBH.mass/(r | units.pc)))).sqrt()\n",
    "    a=np.random.rand()*2*np.pi\n",
    "    vx=v*np.cos(a)\n",
    "    vy=v*np.sin(a)\n",
    "    vz=0 | units.kms\n",
    "    return vx,vy,vz"
   ]
  },
  {
   "cell_type": "code",
   "execution_count": 3,
   "metadata": {},
   "outputs": [
    {
     "name": "stderr",
     "output_type": "stream",
     "text": [
      "/software/amuse/amuse-2021.6/lib/python3.9/site-packages/amuse/units/quantities.py:1161: VisibleDeprecationWarning: Creating an ndarray from ragged nested sequences (which is a list-or-tuple of lists-or-tuples-or ndarrays with different lengths or shapes) is deprecated. If you meant to do this, you must specify 'dtype=object' when creating the ndarray.\n",
      "  return numpy.array(self._number_list, dtype=self.unit.dtype)\n"
     ]
    },
    {
     "name": "stdout",
     "output_type": "stream",
     "text": [
      "Time= 0.0 Myr\n",
      "Time= 10.0 Myr\n",
      "Time= 20.0 Myr\n",
      "Time= 30.0 Myr\n",
      "Time= 40.0 Myr\n",
      "Time= 50.0 Myr\n",
      "Time= 60.0 Myr\n",
      "Time= 70.0 Myr\n",
      "Time= 80.0 Myr\n",
      "Time= 90.0 Myr\n"
     ]
    }
   ],
   "source": [
    "x0 = np.array([])\n",
    "y0 = np.array([])\n",
    "x1 = np.array([])\n",
    "y1 = np.array([])\n",
    "x3 = np.array([])\n",
    "y3 = np.array([])\n",
    "for i in range(0, 1):\n",
    "    bodies = Particles(2)\n",
    "    bodies.name = [\"BH1\", \"BH2\"]\n",
    "    bodies.mass = new_powerlaw_mass_distribution(2, 1.0|units.MSun, 100.0|units.MSun, 2.35)\n",
    "    bodies[0].position = (random_p())\n",
    "    bodies[1].position = (random_p())\n",
    "    distance1, distance2 = dist(bodies[0]), dist(bodies[1])\n",
    "    bodies[0].velocity = (random_v(distance1))\n",
    "    bodies[1].velocity = (random_v(distance2))\n",
    "    bodies.add_particles(SMBH)\n",
    "    \n",
    "    bodies1 = bodies.copy()\n",
    "    BH3 = Particles(1)\n",
    "    BH3.name = \"BH3\"\n",
    "    BH3.mass = new_powerlaw_mass_distribution(1, 1.0|units.MSun, 100.0|units.MSun, 2.35)\n",
    "    BH3.position = (random_p())\n",
    "    BH3.velocity = (random_v(dist(BH3)))\n",
    "    bodies1.add_particles(BH3)\n",
    "    \n",
    "    converter = nbody_system.nbody_to_si(bodies1.mass.sum(), bodies1.position.length())\n",
    "#     bodies1.scale_to_standard(converter)\n",
    "    gravity = ph4(converter, number_of_workers=32)\n",
    "    gravity.particles.add_particles(bodies1)\n",
    "    channel = gravity.particles.new_channel_to(bodies1)\n",
    "\n",
    "\n",
    "    times = numpy.arange(0, 100, 0.04) | units.Myr\n",
    "    for time in times:\n",
    "        gravity.evolve_model(time)\n",
    "        channel.copy() # Copy from gravity.particles to bodies\n",
    "        if not time.value_in(units.Myr)%10.0:\n",
    "            print(\"Time=\", time.in_(units.Myr))\n",
    "        x0 = np.append(x0, bodies1[0].x.value_in(units.pc))\n",
    "        y0 = np.append(y0, bodies1[0].y.value_in(units.pc))\n",
    "        x1 = np.append(x1, bodies1[1].x.value_in(units.pc))\n",
    "        y1 = np.append(y1, bodies1[1].y.value_in(units.pc))\n",
    "        x3 = np.append(x3, bodies1[3].x.value_in(units.pc))\n",
    "        y3 = np.append(y3, bodies1[3].y.value_in(units.pc))\n",
    "        n_points = 10\n",
    "        if len(x0)>n_points:\n",
    "            pyplot.figure()\n",
    "            pyplot.scatter(x0[-n_points:], y0[-n_points:], color=\"r\", alpha=np.linspace(0,1,n_points))\n",
    "            pyplot.scatter(x1[-n_points:], y1[-n_points:], color=\"b\", alpha=np.linspace(0,1,n_points))\n",
    "            pyplot.scatter(x3[-n_points:], y3[-n_points:], color=\"g\", alpha=np.linspace(0,1,n_points))\n",
    "            pyplot.plot(x0[-n_points:], y0[-n_points:], color=\"r\", alpha=0.5)\n",
    "            pyplot.plot(x1[-n_points:], y1[-n_points:], color=\"b\", alpha=0.5)\n",
    "            pyplot.plot(x3[-n_points:], y3[-n_points:], color=\"g\", alpha=0.5)\n",
    "            pyplot.scatter(bodies1[2].x.value_in(units.pc), bodies1[2].y.value_in(units.pc), s=50, c=\"k\")\n",
    "            pyplot.xlim(-3, 3)\n",
    "            pyplot.ylim(-3, 3)\n",
    "            pyplot.savefig('BH_trace.png')\n",
    "            pyplot.close()\n",
    "        b = (bodies1-SMBH).get_binaries()\n",
    "        if(len(b)>0):\n",
    "            print(\"Binary formed at\", time)\n",
    "            break\n",
    "    \n",
    "    pyplot.show()"
   ]
  },
  {
   "cell_type": "code",
   "execution_count": 4,
   "metadata": {},
   "outputs": [
    {
     "name": "stdout",
     "output_type": "stream",
     "text": [
      "                 key         mass         name           vx           vy           vz            x            y            z\n",
      "                   -         MSun         none  8028481.01748 * m * s**-1  8028481.01748 * m * s**-1          kms       parsec       parsec       parsec\n",
      "====================  ===========  ===========  ===========  ===========  ===========  ===========  ===========  ===========\n",
      " 2508999265866466183    6.608e+01          BH1   -3.488e-03   -1.819e-03    0.000e+00   -1.894e+00    2.006e+00    0.000e+00\n",
      "14557911091842509828    6.101e+01          BH2   -1.329e-04    8.257e-03    0.000e+00    3.542e-01   -1.018e+00    0.000e+00\n",
      "  528365894453582260    4.154e+06         SMBH    0.000e+00    0.000e+00    0.000e+00    0.000e+00    0.000e+00    0.000e+00\n",
      "====================  ===========  ===========  ===========  ===========  ===========  ===========  ===========  ===========\n",
      "                 key         mass         name  potential_in_code       radius     timestep           vx           vy           vz            x            y            z\n",
      "                   -         MSun         none  m**2 * s**-2            m            s  8028481.01748 * m * s**-1  8028481.01748 * m * s**-1          kms       parsec       parsec       parsec\n",
      "====================  ===========  ===========  ===========  ===========  ===========  ===========  ===========  ===========  ===========  ===========  ===========\n",
      " 2508999265866466183    6.608e+01          BH1   -7.673e+09   -1.088e+17    1.492e+09   -5.388e-03    2.163e-04    0.000e+00   -1.345e+00    2.109e+00    0.000e+00\n",
      "14557911091842509828    6.101e+01          BH2   -5.544e+10   -1.088e+17    1.492e+09    1.400e-03   -3.472e-02    0.000e+00   -2.199e-01   -1.219e-01    0.000e+00\n",
      "  528365894453582260    4.154e+06         SMBH   -1.168e+06   -1.088e+17    1.492e+09   -1.821e-07    6.839e-07    0.000e+00   -6.671e-02    1.618e-01    0.000e+00\n",
      "12474540159236443797    8.069e+01          BH3   -1.192e+10   -1.088e+17    1.492e+09    8.421e-03    1.074e-03    0.000e+00    1.207e+00   -6.279e-01    0.000e+00\n",
      "====================  ===========  ===========  ===========  ===========  ===========  ===========  ===========  ===========  ===========  ===========  ===========\n"
     ]
    }
   ],
   "source": [
    "print(bodies)\n",
    "print(bodies1)"
   ]
  },
  {
   "cell_type": "code",
   "execution_count": null,
   "metadata": {},
   "outputs": [],
   "source": []
  }
 ],
 "metadata": {
  "kernelspec": {
   "display_name": "Python 3",
   "language": "python",
   "name": "python3"
  },
  "language_info": {
   "codemirror_mode": {
    "name": "ipython",
    "version": 3
   },
   "file_extension": ".py",
   "mimetype": "text/x-python",
   "name": "python",
   "nbconvert_exporter": "python",
   "pygments_lexer": "ipython3",
   "version": "3.10.8"
  }
 },
 "nbformat": 4,
 "nbformat_minor": 4
}
