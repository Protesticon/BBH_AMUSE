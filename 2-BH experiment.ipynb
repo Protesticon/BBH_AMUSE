{
 "cells": [
  {
   "cell_type": "code",
   "execution_count": null,
   "metadata": {},
   "outputs": [],
   "source": [
    "%matplotlib inline\n",
    "import numpy\n",
    "import numpy as np\n",
    "from matplotlib import pyplot\n",
    "from amuse.units import (units, constants)\n",
    "from amuse.ext.orbital_elements import new_binary_from_orbital_elements\n",
    "from amuse.ext.orbital_elements import orbital_elements_from_binary\n",
    "from amuse.lab import Particles\n",
    "def orbital_period(Mtot, a):\n",
    "    return (((4 * numpy.pi**2) * a**3)/(constants.G * Mtot)).sqrt()\n",
    "\n",
    "SMBH = Particles(1)\n",
    "SMBH.name = \"SMBH\"\n",
    "SMBH.mass = 4.154e+6 | units.MSun\n",
    "SMBH.position = (0, 0, 0) | units.pc\n",
    "SMBH.velocity = (0, 0, 0) | units.kms"
   ]
  },
  {
   "cell_type": "code",
   "execution_count": null,
   "metadata": {},
   "outputs": [],
   "source": [
    "def relative_orbital_velocity(distance, mass=SMBH.mass):\n",
    "    return (constants.G*mass/distance).sqrt()\n",
    "\n",
    "def plot(body):\n",
    "    scatter(body.x.value_in(units.pc), body.z.value_in(units.pc), s=20, alpha=0.5)\n",
    "    #scatter(SMBH.x.value_in(units.pc), SMBH.z.value_in(units.pc), s=80, c='r')\n",
    "    pyplot.xlim(-10, 10)\n",
    "    pyplot.ylim(-10, 10)"
   ]
  }
 ],
 "metadata": {
  "kernelspec": {
   "display_name": "Python 3",
   "language": "python",
   "name": "python3"
  },
  "language_info": {
   "codemirror_mode": {
    "name": "ipython",
    "version": 3
   },
   "file_extension": ".py",
   "mimetype": "text/x-python",
   "name": "python",
   "nbconvert_exporter": "python",
   "pygments_lexer": "ipython3",
   "version": "3.10.8"
  }
 },
 "nbformat": 4,
 "nbformat_minor": 4
}
